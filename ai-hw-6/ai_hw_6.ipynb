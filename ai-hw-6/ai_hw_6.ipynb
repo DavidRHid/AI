{
    "cells": [
        {
            "cell_type": "code",
            "execution_count": 1,
            "metadata": {},
            "outputs": [
                {
                    "name": "stdout",
                    "output_type": "stream",
                    "text": [
                        "True\n",
                        "Device used: cuda\n"
                    ]
                }
            ],
            "source": [
                "from torch.utils.data import DataLoader, random_split\n",
                "from collections import defaultdict\n",
                "from tqdm import tqdm\n",
                "\n",
                "import matplotlib.pyplot as plt\n",
                "import torch.nn.functional as F\n",
                "import torch.optim as optim\n",
                "import torch.nn as nn\n",
                "import numpy as np\n",
                "\n",
                "import warnings\n",
                "import torch\n",
                "import os\n",
                "\n",
                "warnings.filterwarnings(\"ignore\")\n",
                "print(torch.cuda.is_available())\n",
                "device = torch.device(\"cuda\" if torch.cuda.is_available() else \"cpu\")\n",
                "print(f\"Device used: {device}\")"
            ]
        },
        {
            "attachments": {},
            "cell_type": "markdown",
            "metadata": {},
            "source": [
                "# Image Classification\n",
                "\n",
                "For this last assignment, you will use PyTorch to implement a convolutional neural network image classifier. You will walk through the steps of setting up data, implementing training and validation code, specifying parameters, and learning and evaluating a model.\n",
                "\n",
                "First, we will need to import the Imagenette data. In order to run it, download both `imagenette_train.pt` and `imagenett_test.pt` from the shared Google Drive [link](https://drive.google.com/drive/folders/1K8wD1dhGJ2ULG8KoBjDs6uzh5UwmfNw-?usp=sharing). Then, when you have saved them to a directory in your own Google Drive, run the function `import_imagenette_data()`, calling `/content/drive/MyDrive/<DIR_NAME>/` as a parameter."
            ]
        },
        {
            "cell_type": "code",
            "execution_count": 2,
            "metadata": {},
            "outputs": [],
            "source": [
                "def import_imagenette_data(dir):\n",
                "\n",
                "    print(\"Downloading Imagenette Data...\", end=\" \")\n",
                "    train_data = torch.load(os.path.join(dir, \"imagenette_train.pt\"))\n",
                "    test_data = torch.load(os.path.join(dir, \"imagenette_test.pt\"))\n",
                "    print(\"Download Complete!\")\n",
                "\n",
                "    return train_data, test_data"
            ]
        },
        {
            "cell_type": "code",
            "execution_count": 3,
            "metadata": {},
            "outputs": [
                {
                    "name": "stdout",
                    "output_type": "stream",
                    "text": [
                        "Downloading Imagenette Data... Download Complete!\n"
                    ]
                }
            ],
            "source": [
                "BASE_DIR = \"C:/Users/david/ai/ai-hw-6\"\n",
                "DIR_NAME = \"data/\"\n",
                "FULL_DIR = os.path.join(BASE_DIR, DIR_NAME)\n",
                "all_train_data, test_data = import_imagenette_data(FULL_DIR)"
            ]
        },
        {
            "attachments": {},
            "cell_type": "markdown",
            "metadata": {},
            "source": [
                "# Task 1: `CNN` Class (8 points)\n",
                "\n",
                "Our first task will be to write a class that stores a convolutional neural network model. Write the `__init__()` function. It should define two `nn.Sequential` attributes: `self.conv` and `self.fc`. `self.conv` should be a convolutional sequence; `self.fc` should be a simple multi-layer perceptron.\n",
                "\n",
                "* The first layer of `self.conv` is a 2D convolutional layer that takes the specified number of in-channels, 16 out-channels, a kernel size of 8, and a stride length of 4. Follow this with a rectified linear unit, and then a 2D max pooling layer with kernel size 2 and stride length 2. Finally, repeat these three layers, but this time change the convolutional layer to have 16 in-channels, 32 out-channels, a kernel size of 4, and a stride length of 2. In the end, ```self.conv``` should have a total of 6 ```nn.Module``` objects.\n",
                "\n",
                "* `self.fc` should consist of a flattening layer to flatten the output of `self.conv`. Then add a linear layer, a rectified linear unit, a linear layer, a rectified linear unit, and one final linear layer. The input dimension of `self.fc` should be the same as the output dimension of `self.conv`. The output dimension of `self.fc` should be the number of classes. For all other intermediate input/output dimensions, fix them to any number you'd like (we recommend anything above 256). In the end, ```self.fc``` should have 6 ```nn.Module``` objects.\n",
                "\n",
                "* Be sure to call `super()` so that `CNN` can access methods form `nn.Module`.\n",
                "\n",
                "* Be sure to send each of the constructed sequences to the specified device."
            ]
        },
        {
            "cell_type": "code",
            "execution_count": 4,
            "metadata": {},
            "outputs": [],
            "source": [
                "class CNN(nn.Module):\n",
                "    def __init__(\n",
                "            self,\n",
                "            in_channels,\n",
                "            num_classes,\n",
                "            device,\n",
                "    ):\n",
                "        super(CNN, self).__init__()\n",
                "        self.conv = nn.Sequential(\n",
                "            nn.Conv2d(in_channels, 16, kernel_size=8, stride=4),\n",
                "            nn.ReLU(),\n",
                "            nn.MaxPool2d(kernel_size=2, stride=2),\n",
                "            nn.Conv2d(16, 32, kernel_size=4, stride=2),\n",
                "            nn.ReLU(),\n",
                "            nn.MaxPool2d(kernel_size=2, stride=2)\n",
                "        ).to(device)\n",
                "        self.fc = nn.Sequential(\n",
                "            nn.Flatten(),\n",
                "            nn.Linear(32 * 6 * 6, 512),\n",
                "            nn.ReLU(),\n",
                "            nn.Linear(512, 256),\n",
                "            nn.ReLU(),\n",
                "            nn.Linear(256, num_classes)\n",
                "        ).to(device)\n",
                "        \n",
                "        \n",
                "    def forward(\n",
                "            self,\n",
                "            x,\n",
                "    ):\n",
                "        x = self.conv(x)\n",
                "        x = self.fc(x)\n",
                "        return x"
            ]
        },
        {
            "attachments": {},
            "cell_type": "markdown",
            "metadata": {},
            "source": [
                "# Task 2: Data and Learning Setup (12 points)\n",
                "\n",
                "At the beginning, we imported two datasets: ```all_train_data``` and ```test_data```. When training a model, we want to train the model parameters on a _subset_ of the training data, and use the remaining training data to _validate_ and generalize the model.\n",
                "\n",
                "* Use ```random_split()``` to separate ```all_train_data``` into a training dataset and a validation dataset. The training dataset should contain 80\\% of the original training data, while the other 20\\% should belong to the validation dataset.\n",
                "\n",
                "* Store the training data, validation data, and test data in three separate `DataLoader` objects. Specify a batch size of 32.\n",
                "\n",
                "*  Print out the number of data points in each of the three datasets (training, validation, and test datasets)."
            ]
        },
        {
            "cell_type": "code",
            "execution_count": 5,
            "metadata": {},
            "outputs": [
                {
                    "name": "stdout",
                    "output_type": "stream",
                    "text": [
                        "Number of data points in the training dataset: 7282\n",
                        "Number of data points in the validation dataset: 1821\n",
                        "Number of data points in the test dataset: 3925\n"
                    ]
                }
            ],
            "source": [
                "train_size = int(0.8 * len(all_train_data))\n",
                "val_size = len(all_train_data) - train_size\n",
                "train_data, val_data = random_split(all_train_data, [train_size, val_size])\n",
                "\n",
                "train_loader = DataLoader(train_data, batch_size=32, shuffle=True)\n",
                "val_loader = DataLoader(val_data, batch_size=32, shuffle=True)\n",
                "test_loader = DataLoader(test_data, batch_size=32, shuffle=True)\n",
                "\n",
                "print(f\"Number of data points in the training dataset: {len(train_data)}\")\n",
                "print(f\"Number of data points in the validation dataset: {len(val_data)}\")\n",
                "print(f\"Number of data points in the test dataset: {len(test_data)}\")\n"
            ]
        },
        {
            "attachments": {},
            "cell_type": "markdown",
            "metadata": {},
            "source": [
                "In order to train and evaluate our model, we need an optimizer and a criterion. For the former, we will use a procedure called [Adam](https://arxiv.org/abs/1412.6980) (ADAptive Moment estimation). Adam works similarly to stochastic gradient descent, except it _adapts_ its step size according to _momentum_, which is a measure of how close it is to a local minimum.\n",
                "\n",
                "For the criterion, we will use cross-entropy loss, which just corresponds to the log loss that we saw in class for logistic regression.\n",
                "\n",
                "* First initialize your CNN model, setting the number of input channels to 3 (one for each color channel), the number of classes to 10, and the device to the device you are currently using.\n",
                "\n",
                "* Initialize an optimizer variable using the Adam optimizer from the PyTorch library. Set the learning rate to $1 \\times 10^{-4}$.\n",
                "\n",
                "* Initialize a criterion variable using the cross-entropy loss criterion from the PyTorch library."
            ]
        },
        {
            "cell_type": "code",
            "execution_count": 6,
            "metadata": {},
            "outputs": [],
            "source": [
                "model = CNN(3, 10, device)\n",
                "optimizer = optim.Adam(model.parameters(), lr=1e-4)\n",
                "criterion = nn.CrossEntropyLoss()"
            ]
        },
        {
            "attachments": {},
            "cell_type": "markdown",
            "metadata": {},
            "source": [
                "# Task 3: `train()` Function (16 points)\n",
                "\n",
                "Now we will implement ```train()```, the main function that will iterate through our data to learn the model. It takes in 7 parameters:\n",
                "\n",
                "1. ```train_data```: this is a DataLoader object containing the training data.\n",
                "2. ```val_data```: this is a DataLoader object containing the validation data.\n",
                "3. ```model```: this is the CNN model that you instantiated to be trained.\n",
                "4. ```criterion```: this is the criterion to be used during training.\n",
                "5. ```optimizer```: this is the optimizer to be used during training.\n",
                "6. ```num_epochs```: this is the number of epochs to train for.\n",
                "7. ```device```: this is the device to send all computations to.\n",
                "\n",
                "To train, you will iterate over the specified number of epochs. In each epoch, you will execute the training phase by iterating through the DataLoaders, calculating losses, and computing gradient update steps. You will then repeat these steps for the validation phase, but without the step of computing gradients and updating the model.\n",
                "\n",
                "Within this function, you should also update the defined `info` dictionary. It contains four lists, updated at the end of each epoch: `\"train_losses\"`, `\"train_accuracies\"`, `\"val_losses\"`, `\"val_accuracies\"`. Return this dictionary when this function completes."
            ]
        },
        {
            "cell_type": "code",
            "execution_count": 7,
            "metadata": {},
            "outputs": [],
            "source": [
                "def train(\n",
                "        train_data,\n",
                "        val_data,\n",
                "        model,\n",
                "        criterion,\n",
                "        optimizer,\n",
                "        num_epochs,\n",
                "        device,\n",
                "):\n",
                "    info = defaultdict(list)\n",
                "\n",
                "    for epoch in range(num_epochs):\n",
                "        model.train()\n",
                "        train_loss = 0\n",
                "        train_correct = 0\n",
                "        train_total = 0\n",
                "\n",
                "        for inputs, labels in tqdm(train_data):\n",
                "            inputs, labels = inputs.to(device), labels.to(device)\n",
                "            optimizer.zero_grad()\n",
                "            outputs = model(inputs)\n",
                "            loss = criterion(outputs, labels)\n",
                "            loss.backward()\n",
                "            optimizer.step()\n",
                "\n",
                "            train_loss += loss.item()\n",
                "            _, predicted = outputs.max(1)\n",
                "            train_total += labels.size(0)\n",
                "            train_correct += predicted.eq(labels).sum().item()\n",
                "\n",
                "        info[\"train_losses\"].append(train_loss / len(train_data))\n",
                "        info[\"train_accuracies\"].append(train_correct / train_total)\n",
                "\n",
                "        model.eval()\n",
                "        val_loss = 0\n",
                "        val_correct = 0\n",
                "        val_total = 0\n",
                "\n",
                "        with torch.no_grad():\n",
                "            for inputs, labels in tqdm(val_data):\n",
                "                inputs, labels = inputs.to(device), labels.to(device)\n",
                "                outputs = model(inputs)\n",
                "                loss = criterion(outputs, labels)\n",
                "\n",
                "                val_loss += loss.item()\n",
                "                _, predicted = outputs.max(1)\n",
                "                val_total += labels.size(0)\n",
                "                val_correct += predicted.eq(labels).sum().item()\n",
                "\n",
                "        info[\"val_losses\"].append(val_loss / len(val_data))\n",
                "        info[\"val_accuracies\"].append(val_correct / val_total)\n",
                "\n",
                "        print(f\"Epoch {epoch + 1}/{num_epochs}:\")\n",
                "        print(f\"Train Loss: {info['train_losses'][-1]:.4f}, Train Accuracy: {info['train_accuracies'][-1]:.4f}\")\n",
                "        print(f\"Val Loss: {info['val_losses'][-1]:.4f}, Val Accuracy: {info['val_accuracies'][-1]:.4f}\")\n",
                "\n",
                "    return info\n"
            ]
        },
        {
            "attachments": {},
            "cell_type": "markdown",
            "metadata": {},
            "source": [
                "Once you have this function implemented, call it to train the model with all of our defined parameters. Use 50 epochs."
            ]
        },
        {
            "cell_type": "code",
            "execution_count": 8,
            "metadata": {},
            "outputs": [
                {
                    "name": "stderr",
                    "output_type": "stream",
                    "text": [
                        "100%|██████████| 228/228 [00:10<00:00, 21.55it/s]\n",
                        "100%|██████████| 57/57 [00:00<00:00, 104.10it/s]\n"
                    ]
                },
                {
                    "name": "stdout",
                    "output_type": "stream",
                    "text": [
                        "Epoch 1/50:\n",
                        "Train Loss: 2.1313, Train Accuracy: 0.2388\n",
                        "Val Loss: 2.0038, Val Accuracy: 0.2987\n"
                    ]
                },
                {
                    "name": "stderr",
                    "output_type": "stream",
                    "text": [
                        "100%|██████████| 228/228 [00:02<00:00, 83.81it/s]\n",
                        "100%|██████████| 57/57 [00:00<00:00, 99.95it/s] \n"
                    ]
                },
                {
                    "name": "stdout",
                    "output_type": "stream",
                    "text": [
                        "Epoch 2/50:\n",
                        "Train Loss: 1.8807, Train Accuracy: 0.3489\n",
                        "Val Loss: 1.8102, Val Accuracy: 0.3992\n"
                    ]
                },
                {
                    "name": "stderr",
                    "output_type": "stream",
                    "text": [
                        "100%|██████████| 228/228 [00:02<00:00, 80.55it/s]\n",
                        "100%|██████████| 57/57 [00:00<00:00, 97.24it/s]\n"
                    ]
                },
                {
                    "name": "stdout",
                    "output_type": "stream",
                    "text": [
                        "Epoch 3/50:\n",
                        "Train Loss: 1.7618, Train Accuracy: 0.3958\n",
                        "Val Loss: 1.7798, Val Accuracy: 0.3882\n"
                    ]
                },
                {
                    "name": "stderr",
                    "output_type": "stream",
                    "text": [
                        "100%|██████████| 228/228 [00:02<00:00, 78.66it/s]\n",
                        "100%|██████████| 57/57 [00:00<00:00, 92.22it/s]\n"
                    ]
                },
                {
                    "name": "stdout",
                    "output_type": "stream",
                    "text": [
                        "Epoch 4/50:\n",
                        "Train Loss: 1.6767, Train Accuracy: 0.4239\n",
                        "Val Loss: 1.7126, Val Accuracy: 0.4267\n"
                    ]
                },
                {
                    "name": "stderr",
                    "output_type": "stream",
                    "text": [
                        "100%|██████████| 228/228 [00:02<00:00, 79.09it/s]\n",
                        "100%|██████████| 57/57 [00:00<00:00, 102.91it/s]\n"
                    ]
                },
                {
                    "name": "stdout",
                    "output_type": "stream",
                    "text": [
                        "Epoch 5/50:\n",
                        "Train Loss: 1.5773, Train Accuracy: 0.4591\n",
                        "Val Loss: 1.6172, Val Accuracy: 0.4498\n"
                    ]
                },
                {
                    "name": "stderr",
                    "output_type": "stream",
                    "text": [
                        "100%|██████████| 228/228 [00:02<00:00, 81.31it/s]\n",
                        "100%|██████████| 57/57 [00:00<00:00, 98.42it/s]\n"
                    ]
                },
                {
                    "name": "stdout",
                    "output_type": "stream",
                    "text": [
                        "Epoch 6/50:\n",
                        "Train Loss: 1.5071, Train Accuracy: 0.4813\n",
                        "Val Loss: 1.5738, Val Accuracy: 0.4646\n"
                    ]
                },
                {
                    "name": "stderr",
                    "output_type": "stream",
                    "text": [
                        "100%|██████████| 228/228 [00:02<00:00, 84.48it/s]\n",
                        "100%|██████████| 57/57 [00:00<00:00, 103.67it/s]\n"
                    ]
                },
                {
                    "name": "stdout",
                    "output_type": "stream",
                    "text": [
                        "Epoch 7/50:\n",
                        "Train Loss: 1.4502, Train Accuracy: 0.5033\n",
                        "Val Loss: 1.5124, Val Accuracy: 0.4843\n"
                    ]
                },
                {
                    "name": "stderr",
                    "output_type": "stream",
                    "text": [
                        "100%|██████████| 228/228 [00:02<00:00, 83.64it/s]\n",
                        "100%|██████████| 57/57 [00:00<00:00, 104.45it/s]\n"
                    ]
                },
                {
                    "name": "stdout",
                    "output_type": "stream",
                    "text": [
                        "Epoch 8/50:\n",
                        "Train Loss: 1.3832, Train Accuracy: 0.5323\n",
                        "Val Loss: 1.5119, Val Accuracy: 0.4915\n"
                    ]
                },
                {
                    "name": "stderr",
                    "output_type": "stream",
                    "text": [
                        "100%|██████████| 228/228 [00:02<00:00, 86.24it/s]\n",
                        "100%|██████████| 57/57 [00:00<00:00, 99.99it/s] \n"
                    ]
                },
                {
                    "name": "stdout",
                    "output_type": "stream",
                    "text": [
                        "Epoch 9/50:\n",
                        "Train Loss: 1.3170, Train Accuracy: 0.5597\n",
                        "Val Loss: 1.4629, Val Accuracy: 0.4986\n"
                    ]
                },
                {
                    "name": "stderr",
                    "output_type": "stream",
                    "text": [
                        "100%|██████████| 228/228 [00:02<00:00, 80.41it/s]\n",
                        "100%|██████████| 57/57 [00:00<00:00, 98.78it/s]\n"
                    ]
                },
                {
                    "name": "stdout",
                    "output_type": "stream",
                    "text": [
                        "Epoch 10/50:\n",
                        "Train Loss: 1.2737, Train Accuracy: 0.5718\n",
                        "Val Loss: 1.4576, Val Accuracy: 0.5200\n"
                    ]
                },
                {
                    "name": "stderr",
                    "output_type": "stream",
                    "text": [
                        "100%|██████████| 228/228 [00:02<00:00, 78.98it/s]\n",
                        "100%|██████████| 57/57 [00:00<00:00, 100.56it/s]\n"
                    ]
                },
                {
                    "name": "stdout",
                    "output_type": "stream",
                    "text": [
                        "Epoch 11/50:\n",
                        "Train Loss: 1.2199, Train Accuracy: 0.5934\n",
                        "Val Loss: 1.3809, Val Accuracy: 0.5299\n"
                    ]
                },
                {
                    "name": "stderr",
                    "output_type": "stream",
                    "text": [
                        "100%|██████████| 228/228 [00:02<00:00, 82.52it/s]\n",
                        "100%|██████████| 57/57 [00:00<00:00, 99.60it/s] \n"
                    ]
                },
                {
                    "name": "stdout",
                    "output_type": "stream",
                    "text": [
                        "Epoch 12/50:\n",
                        "Train Loss: 1.1805, Train Accuracy: 0.6007\n",
                        "Val Loss: 1.3784, Val Accuracy: 0.5327\n"
                    ]
                },
                {
                    "name": "stderr",
                    "output_type": "stream",
                    "text": [
                        "100%|██████████| 228/228 [00:02<00:00, 80.44it/s]\n",
                        "100%|██████████| 57/57 [00:00<00:00, 97.98it/s] \n"
                    ]
                },
                {
                    "name": "stdout",
                    "output_type": "stream",
                    "text": [
                        "Epoch 13/50:\n",
                        "Train Loss: 1.1233, Train Accuracy: 0.6254\n",
                        "Val Loss: 1.3464, Val Accuracy: 0.5508\n"
                    ]
                },
                {
                    "name": "stderr",
                    "output_type": "stream",
                    "text": [
                        "100%|██████████| 228/228 [00:02<00:00, 76.69it/s]\n",
                        "100%|██████████| 57/57 [00:00<00:00, 98.37it/s]\n"
                    ]
                },
                {
                    "name": "stdout",
                    "output_type": "stream",
                    "text": [
                        "Epoch 14/50:\n",
                        "Train Loss: 1.0922, Train Accuracy: 0.6362\n",
                        "Val Loss: 1.3332, Val Accuracy: 0.5481\n"
                    ]
                },
                {
                    "name": "stderr",
                    "output_type": "stream",
                    "text": [
                        "100%|██████████| 228/228 [00:02<00:00, 80.74it/s]\n",
                        "100%|██████████| 57/57 [00:00<00:00, 102.43it/s]\n"
                    ]
                },
                {
                    "name": "stdout",
                    "output_type": "stream",
                    "text": [
                        "Epoch 15/50:\n",
                        "Train Loss: 1.0379, Train Accuracy: 0.6568\n",
                        "Val Loss: 1.3125, Val Accuracy: 0.5634\n"
                    ]
                },
                {
                    "name": "stderr",
                    "output_type": "stream",
                    "text": [
                        "100%|██████████| 228/228 [00:02<00:00, 80.73it/s]\n",
                        "100%|██████████| 57/57 [00:00<00:00, 90.79it/s]\n"
                    ]
                },
                {
                    "name": "stdout",
                    "output_type": "stream",
                    "text": [
                        "Epoch 16/50:\n",
                        "Train Loss: 0.9923, Train Accuracy: 0.6747\n",
                        "Val Loss: 1.3062, Val Accuracy: 0.5728\n"
                    ]
                },
                {
                    "name": "stderr",
                    "output_type": "stream",
                    "text": [
                        "100%|██████████| 228/228 [00:02<00:00, 79.13it/s]\n",
                        "100%|██████████| 57/57 [00:00<00:00, 93.94it/s]\n"
                    ]
                },
                {
                    "name": "stdout",
                    "output_type": "stream",
                    "text": [
                        "Epoch 17/50:\n",
                        "Train Loss: 0.9482, Train Accuracy: 0.6870\n",
                        "Val Loss: 1.3537, Val Accuracy: 0.5502\n"
                    ]
                },
                {
                    "name": "stderr",
                    "output_type": "stream",
                    "text": [
                        "100%|██████████| 228/228 [00:02<00:00, 78.70it/s]\n",
                        "100%|██████████| 57/57 [00:00<00:00, 98.43it/s]\n"
                    ]
                },
                {
                    "name": "stdout",
                    "output_type": "stream",
                    "text": [
                        "Epoch 18/50:\n",
                        "Train Loss: 0.9092, Train Accuracy: 0.7001\n",
                        "Val Loss: 1.2832, Val Accuracy: 0.5706\n"
                    ]
                },
                {
                    "name": "stderr",
                    "output_type": "stream",
                    "text": [
                        "100%|██████████| 228/228 [00:02<00:00, 79.28it/s]\n",
                        "100%|██████████| 57/57 [00:00<00:00, 104.40it/s]\n"
                    ]
                },
                {
                    "name": "stdout",
                    "output_type": "stream",
                    "text": [
                        "Epoch 19/50:\n",
                        "Train Loss: 0.8603, Train Accuracy: 0.7175\n",
                        "Val Loss: 1.3490, Val Accuracy: 0.5695\n"
                    ]
                },
                {
                    "name": "stderr",
                    "output_type": "stream",
                    "text": [
                        "100%|██████████| 228/228 [00:02<00:00, 84.79it/s]\n",
                        "100%|██████████| 57/57 [00:00<00:00, 108.82it/s]\n"
                    ]
                },
                {
                    "name": "stdout",
                    "output_type": "stream",
                    "text": [
                        "Epoch 20/50:\n",
                        "Train Loss: 0.8158, Train Accuracy: 0.7336\n",
                        "Val Loss: 1.3301, Val Accuracy: 0.5695\n"
                    ]
                },
                {
                    "name": "stderr",
                    "output_type": "stream",
                    "text": [
                        "100%|██████████| 228/228 [00:02<00:00, 85.99it/s]\n",
                        "100%|██████████| 57/57 [00:00<00:00, 105.39it/s]\n"
                    ]
                },
                {
                    "name": "stdout",
                    "output_type": "stream",
                    "text": [
                        "Epoch 21/50:\n",
                        "Train Loss: 0.7751, Train Accuracy: 0.7443\n",
                        "Val Loss: 1.3163, Val Accuracy: 0.5667\n"
                    ]
                },
                {
                    "name": "stderr",
                    "output_type": "stream",
                    "text": [
                        "100%|██████████| 228/228 [00:02<00:00, 85.19it/s]\n",
                        "100%|██████████| 57/57 [00:00<00:00, 106.64it/s]\n"
                    ]
                },
                {
                    "name": "stdout",
                    "output_type": "stream",
                    "text": [
                        "Epoch 22/50:\n",
                        "Train Loss: 0.7376, Train Accuracy: 0.7608\n",
                        "Val Loss: 1.3435, Val Accuracy: 0.5733\n"
                    ]
                },
                {
                    "name": "stderr",
                    "output_type": "stream",
                    "text": [
                        "100%|██████████| 228/228 [00:02<00:00, 84.92it/s]\n",
                        "100%|██████████| 57/57 [00:00<00:00, 100.12it/s]\n"
                    ]
                },
                {
                    "name": "stdout",
                    "output_type": "stream",
                    "text": [
                        "Epoch 23/50:\n",
                        "Train Loss: 0.6971, Train Accuracy: 0.7781\n",
                        "Val Loss: 1.3751, Val Accuracy: 0.5717\n"
                    ]
                },
                {
                    "name": "stderr",
                    "output_type": "stream",
                    "text": [
                        "100%|██████████| 228/228 [00:02<00:00, 82.64it/s]\n",
                        "100%|██████████| 57/57 [00:00<00:00, 107.00it/s]\n"
                    ]
                },
                {
                    "name": "stdout",
                    "output_type": "stream",
                    "text": [
                        "Epoch 24/50:\n",
                        "Train Loss: 0.6531, Train Accuracy: 0.7895\n",
                        "Val Loss: 1.3332, Val Accuracy: 0.5887\n"
                    ]
                },
                {
                    "name": "stderr",
                    "output_type": "stream",
                    "text": [
                        "100%|██████████| 228/228 [00:02<00:00, 86.22it/s]\n",
                        "100%|██████████| 57/57 [00:00<00:00, 105.74it/s]\n"
                    ]
                },
                {
                    "name": "stdout",
                    "output_type": "stream",
                    "text": [
                        "Epoch 25/50:\n",
                        "Train Loss: 0.6008, Train Accuracy: 0.8105\n",
                        "Val Loss: 1.3528, Val Accuracy: 0.5887\n"
                    ]
                },
                {
                    "name": "stderr",
                    "output_type": "stream",
                    "text": [
                        "100%|██████████| 228/228 [00:02<00:00, 84.97it/s]\n",
                        "100%|██████████| 57/57 [00:00<00:00, 109.75it/s]\n"
                    ]
                },
                {
                    "name": "stdout",
                    "output_type": "stream",
                    "text": [
                        "Epoch 26/50:\n",
                        "Train Loss: 0.5543, Train Accuracy: 0.8245\n",
                        "Val Loss: 1.4385, Val Accuracy: 0.5684\n"
                    ]
                },
                {
                    "name": "stderr",
                    "output_type": "stream",
                    "text": [
                        "100%|██████████| 228/228 [00:02<00:00, 83.28it/s]\n",
                        "100%|██████████| 57/57 [00:00<00:00, 103.19it/s]\n"
                    ]
                },
                {
                    "name": "stdout",
                    "output_type": "stream",
                    "text": [
                        "Epoch 27/50:\n",
                        "Train Loss: 0.5226, Train Accuracy: 0.8406\n",
                        "Val Loss: 1.4245, Val Accuracy: 0.5722\n"
                    ]
                },
                {
                    "name": "stderr",
                    "output_type": "stream",
                    "text": [
                        "100%|██████████| 228/228 [00:02<00:00, 84.65it/s]\n",
                        "100%|██████████| 57/57 [00:00<00:00, 106.17it/s]\n"
                    ]
                },
                {
                    "name": "stdout",
                    "output_type": "stream",
                    "text": [
                        "Epoch 28/50:\n",
                        "Train Loss: 0.4808, Train Accuracy: 0.8507\n",
                        "Val Loss: 1.4402, Val Accuracy: 0.5821\n"
                    ]
                },
                {
                    "name": "stderr",
                    "output_type": "stream",
                    "text": [
                        "100%|██████████| 228/228 [00:02<00:00, 85.49it/s]\n",
                        "100%|██████████| 57/57 [00:00<00:00, 106.34it/s]\n"
                    ]
                },
                {
                    "name": "stdout",
                    "output_type": "stream",
                    "text": [
                        "Epoch 29/50:\n",
                        "Train Loss: 0.4243, Train Accuracy: 0.8776\n",
                        "Val Loss: 1.4992, Val Accuracy: 0.5750\n"
                    ]
                },
                {
                    "name": "stderr",
                    "output_type": "stream",
                    "text": [
                        "100%|██████████| 228/228 [00:02<00:00, 84.08it/s]\n",
                        "100%|██████████| 57/57 [00:00<00:00, 98.90it/s] \n"
                    ]
                },
                {
                    "name": "stdout",
                    "output_type": "stream",
                    "text": [
                        "Epoch 30/50:\n",
                        "Train Loss: 0.3921, Train Accuracy: 0.8863\n",
                        "Val Loss: 1.5380, Val Accuracy: 0.5755\n"
                    ]
                },
                {
                    "name": "stderr",
                    "output_type": "stream",
                    "text": [
                        "100%|██████████| 228/228 [00:02<00:00, 80.02it/s]\n",
                        "100%|██████████| 57/57 [00:00<00:00, 94.06it/s]\n"
                    ]
                },
                {
                    "name": "stdout",
                    "output_type": "stream",
                    "text": [
                        "Epoch 31/50:\n",
                        "Train Loss: 0.3409, Train Accuracy: 0.9030\n",
                        "Val Loss: 1.5591, Val Accuracy: 0.5722\n"
                    ]
                },
                {
                    "name": "stderr",
                    "output_type": "stream",
                    "text": [
                        "100%|██████████| 228/228 [00:02<00:00, 79.65it/s]\n",
                        "100%|██████████| 57/57 [00:00<00:00, 92.96it/s]\n"
                    ]
                },
                {
                    "name": "stdout",
                    "output_type": "stream",
                    "text": [
                        "Epoch 32/50:\n",
                        "Train Loss: 0.3088, Train Accuracy: 0.9140\n",
                        "Val Loss: 1.5927, Val Accuracy: 0.5794\n"
                    ]
                },
                {
                    "name": "stderr",
                    "output_type": "stream",
                    "text": [
                        "100%|██████████| 228/228 [00:02<00:00, 79.38it/s]\n",
                        "100%|██████████| 57/57 [00:00<00:00, 99.73it/s] \n"
                    ]
                },
                {
                    "name": "stdout",
                    "output_type": "stream",
                    "text": [
                        "Epoch 33/50:\n",
                        "Train Loss: 0.2718, Train Accuracy: 0.9265\n",
                        "Val Loss: 1.7438, Val Accuracy: 0.5530\n"
                    ]
                },
                {
                    "name": "stderr",
                    "output_type": "stream",
                    "text": [
                        "100%|██████████| 228/228 [00:02<00:00, 81.59it/s]\n",
                        "100%|██████████| 57/57 [00:00<00:00, 102.02it/s]\n"
                    ]
                },
                {
                    "name": "stdout",
                    "output_type": "stream",
                    "text": [
                        "Epoch 34/50:\n",
                        "Train Loss: 0.2282, Train Accuracy: 0.9460\n",
                        "Val Loss: 1.6734, Val Accuracy: 0.5788\n"
                    ]
                },
                {
                    "name": "stderr",
                    "output_type": "stream",
                    "text": [
                        "100%|██████████| 228/228 [00:02<00:00, 80.01it/s]\n",
                        "100%|██████████| 57/57 [00:00<00:00, 87.52it/s]\n"
                    ]
                },
                {
                    "name": "stdout",
                    "output_type": "stream",
                    "text": [
                        "Epoch 35/50:\n",
                        "Train Loss: 0.2035, Train Accuracy: 0.9508\n",
                        "Val Loss: 1.8448, Val Accuracy: 0.5596\n"
                    ]
                },
                {
                    "name": "stderr",
                    "output_type": "stream",
                    "text": [
                        "100%|██████████| 228/228 [00:02<00:00, 79.11it/s]\n",
                        "100%|██████████| 57/57 [00:00<00:00, 100.72it/s]\n"
                    ]
                },
                {
                    "name": "stdout",
                    "output_type": "stream",
                    "text": [
                        "Epoch 36/50:\n",
                        "Train Loss: 0.1734, Train Accuracy: 0.9606\n",
                        "Val Loss: 1.8767, Val Accuracy: 0.5574\n"
                    ]
                },
                {
                    "name": "stderr",
                    "output_type": "stream",
                    "text": [
                        "100%|██████████| 228/228 [00:02<00:00, 78.29it/s]\n",
                        "100%|██████████| 57/57 [00:00<00:00, 93.83it/s]\n"
                    ]
                },
                {
                    "name": "stdout",
                    "output_type": "stream",
                    "text": [
                        "Epoch 37/50:\n",
                        "Train Loss: 0.1454, Train Accuracy: 0.9728\n",
                        "Val Loss: 1.8651, Val Accuracy: 0.5739\n"
                    ]
                },
                {
                    "name": "stderr",
                    "output_type": "stream",
                    "text": [
                        "100%|██████████| 228/228 [00:02<00:00, 80.80it/s]\n",
                        "100%|██████████| 57/57 [00:00<00:00, 103.32it/s]\n"
                    ]
                },
                {
                    "name": "stdout",
                    "output_type": "stream",
                    "text": [
                        "Epoch 38/50:\n",
                        "Train Loss: 0.1196, Train Accuracy: 0.9756\n",
                        "Val Loss: 1.9229, Val Accuracy: 0.5815\n"
                    ]
                },
                {
                    "name": "stderr",
                    "output_type": "stream",
                    "text": [
                        "100%|██████████| 228/228 [00:02<00:00, 82.99it/s]\n",
                        "100%|██████████| 57/57 [00:00<00:00, 103.07it/s]\n"
                    ]
                },
                {
                    "name": "stdout",
                    "output_type": "stream",
                    "text": [
                        "Epoch 39/50:\n",
                        "Train Loss: 0.1008, Train Accuracy: 0.9815\n",
                        "Val Loss: 2.0386, Val Accuracy: 0.5684\n"
                    ]
                },
                {
                    "name": "stderr",
                    "output_type": "stream",
                    "text": [
                        "100%|██████████| 228/228 [00:02<00:00, 78.14it/s]\n",
                        "100%|██████████| 57/57 [00:00<00:00, 104.09it/s]\n"
                    ]
                },
                {
                    "name": "stdout",
                    "output_type": "stream",
                    "text": [
                        "Epoch 40/50:\n",
                        "Train Loss: 0.0868, Train Accuracy: 0.9857\n",
                        "Val Loss: 2.0756, Val Accuracy: 0.5645\n"
                    ]
                },
                {
                    "name": "stderr",
                    "output_type": "stream",
                    "text": [
                        "100%|██████████| 228/228 [00:02<00:00, 87.33it/s]\n",
                        "100%|██████████| 57/57 [00:00<00:00, 107.75it/s]\n"
                    ]
                },
                {
                    "name": "stdout",
                    "output_type": "stream",
                    "text": [
                        "Epoch 41/50:\n",
                        "Train Loss: 0.0692, Train Accuracy: 0.9896\n",
                        "Val Loss: 2.1391, Val Accuracy: 0.5706\n"
                    ]
                },
                {
                    "name": "stderr",
                    "output_type": "stream",
                    "text": [
                        "100%|██████████| 228/228 [00:02<00:00, 84.65it/s]\n",
                        "100%|██████████| 57/57 [00:00<00:00, 100.21it/s]\n"
                    ]
                },
                {
                    "name": "stdout",
                    "output_type": "stream",
                    "text": [
                        "Epoch 42/50:\n",
                        "Train Loss: 0.0678, Train Accuracy: 0.9897\n",
                        "Val Loss: 2.1970, Val Accuracy: 0.5783\n"
                    ]
                },
                {
                    "name": "stderr",
                    "output_type": "stream",
                    "text": [
                        "100%|██████████| 228/228 [00:02<00:00, 84.28it/s]\n",
                        "100%|██████████| 57/57 [00:00<00:00, 105.67it/s]\n"
                    ]
                },
                {
                    "name": "stdout",
                    "output_type": "stream",
                    "text": [
                        "Epoch 43/50:\n",
                        "Train Loss: 0.0485, Train Accuracy: 0.9956\n",
                        "Val Loss: 2.2507, Val Accuracy: 0.5755\n"
                    ]
                },
                {
                    "name": "stderr",
                    "output_type": "stream",
                    "text": [
                        "100%|██████████| 228/228 [00:02<00:00, 76.93it/s]\n",
                        "100%|██████████| 57/57 [00:00<00:00, 81.35it/s]\n"
                    ]
                },
                {
                    "name": "stdout",
                    "output_type": "stream",
                    "text": [
                        "Epoch 44/50:\n",
                        "Train Loss: 0.0327, Train Accuracy: 0.9973\n",
                        "Val Loss: 2.3520, Val Accuracy: 0.5667\n"
                    ]
                },
                {
                    "name": "stderr",
                    "output_type": "stream",
                    "text": [
                        "100%|██████████| 228/228 [00:03<00:00, 65.42it/s]\n",
                        "100%|██████████| 57/57 [00:00<00:00, 83.10it/s] \n"
                    ]
                },
                {
                    "name": "stdout",
                    "output_type": "stream",
                    "text": [
                        "Epoch 45/50:\n",
                        "Train Loss: 0.0310, Train Accuracy: 0.9968\n",
                        "Val Loss: 2.4303, Val Accuracy: 0.5739\n"
                    ]
                },
                {
                    "name": "stderr",
                    "output_type": "stream",
                    "text": [
                        "100%|██████████| 228/228 [00:03<00:00, 70.92it/s]\n",
                        "100%|██████████| 57/57 [00:00<00:00, 108.02it/s]\n"
                    ]
                },
                {
                    "name": "stdout",
                    "output_type": "stream",
                    "text": [
                        "Epoch 46/50:\n",
                        "Train Loss: 0.0266, Train Accuracy: 0.9981\n",
                        "Val Loss: 2.3926, Val Accuracy: 0.5826\n"
                    ]
                },
                {
                    "name": "stderr",
                    "output_type": "stream",
                    "text": [
                        "100%|██████████| 228/228 [00:02<00:00, 77.86it/s]\n",
                        "100%|██████████| 57/57 [00:00<00:00, 106.32it/s]\n"
                    ]
                },
                {
                    "name": "stdout",
                    "output_type": "stream",
                    "text": [
                        "Epoch 47/50:\n",
                        "Train Loss: 0.0239, Train Accuracy: 0.9978\n",
                        "Val Loss: 2.5224, Val Accuracy: 0.5717\n"
                    ]
                },
                {
                    "name": "stderr",
                    "output_type": "stream",
                    "text": [
                        "100%|██████████| 228/228 [00:03<00:00, 68.63it/s]\n",
                        "100%|██████████| 57/57 [00:00<00:00, 81.11it/s]\n"
                    ]
                },
                {
                    "name": "stdout",
                    "output_type": "stream",
                    "text": [
                        "Epoch 48/50:\n",
                        "Train Loss: 0.0189, Train Accuracy: 0.9986\n",
                        "Val Loss: 2.6141, Val Accuracy: 0.5733\n"
                    ]
                },
                {
                    "name": "stderr",
                    "output_type": "stream",
                    "text": [
                        "100%|██████████| 228/228 [00:03<00:00, 71.72it/s]\n",
                        "100%|██████████| 57/57 [00:00<00:00, 92.72it/s]\n"
                    ]
                },
                {
                    "name": "stdout",
                    "output_type": "stream",
                    "text": [
                        "Epoch 49/50:\n",
                        "Train Loss: 0.0122, Train Accuracy: 0.9999\n",
                        "Val Loss: 2.7203, Val Accuracy: 0.5722\n"
                    ]
                },
                {
                    "name": "stderr",
                    "output_type": "stream",
                    "text": [
                        "100%|██████████| 228/228 [00:03<00:00, 74.98it/s]\n",
                        "100%|██████████| 57/57 [00:00<00:00, 92.85it/s]\n"
                    ]
                },
                {
                    "name": "stdout",
                    "output_type": "stream",
                    "text": [
                        "Epoch 50/50:\n",
                        "Train Loss: 0.0968, Train Accuracy: 0.9668\n",
                        "Val Loss: 2.5365, Val Accuracy: 0.5475\n"
                    ]
                }
            ],
            "source": [
                "info = train(train_loader, val_loader, model, criterion, optimizer, 50, device)"
            ]
        },
        {
            "cell_type": "code",
            "execution_count": 9,
            "metadata": {},
            "outputs": [],
            "source": [
                "#save model\n",
                "dir = os.path.join(BASE_DIR, \"models/\")\n",
                "torch.save(model.state_dict(), os.path.join(dir, \"model.pth\"))"
            ]
        },
        {
            "attachments": {},
            "cell_type": "markdown",
            "metadata": {},
            "source": [
                "# Task 4: Loss and Accuracy Curves (8 points)\n",
                "\n",
                "Use the ```plot_info()``` function below to plot the training and validation losses and accuracies in `info`. Then briefly answer the following questions.\n",
                "\n",
                "* Give a qualitative description of the training and validation loss curves. What do you notice about the loss curves in relation to each other?\n",
                "\n",
                "* Let's focus on the validation loss and accuracy curves. Around how many epochs does the model begin to overfit? What do the loss and accuracy curves look like when this happens?\n",
                "\n",
                "* Let's zoom in once more on the validation loss curve only. How does this curve inform you on when your model has the best performance without overfitting the training data?"
            ]
        },
        {
            "cell_type": "code",
            "execution_count": 10,
            "metadata": {},
            "outputs": [],
            "source": [
                "def plot_info(info):\n",
                "    fig, ax = plt.axes = plt.subplots(1, 2, figsize=(10, 3))\n",
                "    ax[0].plot(info[\"train_losses\"], label=\"Train Loss\")\n",
                "    ax[0].plot(info[\"val_losses\"], label=\"Validation Loss\")\n",
                "    ax[0].set_xlabel(\"Epochs\")\n",
                "    ax[0].set_ylabel(\"Loss\")\n",
                "    ax[0].set_title(\"Loss vs. Epochs\")\n",
                "    ax[0].legend()\n",
                "    ax[1].plot(info[\"train_accuracies\"], label=\"Train Accuracy\")\n",
                "    ax[1].plot(info[\"val_accuracies\"], label=\"Validation Accuracy\")\n",
                "    ax[1].set_xlabel(\"Epochs\")\n",
                "    ax[1].set_ylabel(\"Accuracy\")\n",
                "    ax[1].set_title(\"Accuracy vs. Epochs\")\n",
                "    ax[1].legend()\n",
                "    plt.show()"
            ]
        },
        {
            "cell_type": "code",
            "execution_count": 11,
            "metadata": {},
            "outputs": [
                {
                    "data": {
                        "image/png": "[encoded data removed]",
                        "text/plain": [
                            "<Figure size 1000x300 with 2 Axes>"
                        ]
                    },
                    "metadata": {},
                    "output_type": "display_data"
                }
            ],
            "source": [
                "plot_info(info)\n"
            ]
        },
        {
            "cell_type": "markdown",
            "metadata": {},
            "source": [
                "* Give a qualitative description of the training and validation loss curves. What do you notice about the loss curves in relation to each other?\n",
                "\n",
                "I notice that the training loss continues to decrease as the number of epochs increases, while the validation loss begins to increase after around 20 epochs. This suggests that the model is overfitting the training data after around 20 epochs.\n",
                "\n",
                "* Let's focus on the validation loss and accuracy curves. Around how many epochs does the model begin to overfit? What do the loss and accuracy curves look like when this happens?\n",
                "\n",
                "The model begins to overfit around 20 epochs. The validation loss begins to increase, while the validation accuracy mostly stays the same.\n",
                "\n",
                "* Let's zoom in once more on the validation loss curve only. How does this curve inform you on when your model has the best performance without overfitting the training data?\n",
                "\n",
                "The validation loss curve informs me that the model has the best performance without overfitting the training data around 20 epochs. This is because the validation loss is at its lowest point around this time."
            ]
        },
        {
            "attachments": {},
            "cell_type": "markdown",
            "metadata": {},
            "source": [
                "# Task 5: `test()` Function (8 points)\n",
                "\n",
                "The last task in most learning tasks is to obtain a final evaluation of a model's performance on test data. Implement the `test()` function below, which takes a (test) dataset and model. It should then perform prediction on each data instance and compute and return the overall accuracy. Its implementation should be relatively similar to that of `train()`."
            ]
        },
        {
            "cell_type": "code",
            "execution_count": 15,
            "metadata": {},
            "outputs": [],
            "source": [
                "def test(test_data, model):\n",
                "    model.eval()\n",
                "    test_loss = 0\n",
                "    test_correct = 0\n",
                "    test_total = 0\n",
                "\n",
                "    with torch.no_grad():\n",
                "        for inputs, labels in tqdm(test_data):\n",
                "            inputs, labels = inputs.to(device), labels.to(device)\n",
                "            outputs = model(inputs)\n",
                "            loss = criterion(outputs, labels)\n",
                "\n",
                "            test_loss += loss.item()\n",
                "            _, predicted = outputs.max(1)\n",
                "            test_total += labels.size(0)\n",
                "            test_correct += predicted.eq(labels).sum().item()\n",
                "\n",
                "    print(f\"Test Loss: {test_loss / len(test_data):.4f}, Test Accuracy: {test_correct / test_total:.4f}\")\n",
                "\n",
                "    return test_loss, test_correct, test_total"
            ]
        },
        {
            "attachments": {},
            "cell_type": "markdown",
            "metadata": {},
            "source": [
                "# Task 6: Model Comparison (8 points)\n",
                "\n",
                "Let's retrieve the \"best\" model from the training procedure and compare it against the \"last\" one that we obtain after 50 epochs. Modify the `train()` from Part 3 to include the following:\n",
                "\n",
                "* Save the model with the lowest validation loss to ```best_model.pth``` using `torch.save()`. You can do this by comparing each epoch's loss to the lowest one seen so far, and overriding the previous best model with the current one if you see a lower loss.\n",
                "\n",
                "* Save the model at the end of the training loop to ```last_model.pth```.\n",
                "\n",
                "After making these additions, instantiate a new model, train it using the same parameters as Task 3, and save your best and last models. Then, evaluate both models on the testing data using your `test()` function. Print the accuracies returned by each."
            ]
        },
        {
            "cell_type": "code",
            "execution_count": 16,
            "metadata": {},
            "outputs": [
                {
                    "name": "stderr",
                    "output_type": "stream",
                    "text": [
                        "100%|██████████| 228/228 [00:02<00:00, 79.85it/s]\n",
                        "100%|██████████| 57/57 [00:00<00:00, 109.45it/s]\n"
                    ]
                },
                {
                    "name": "stdout",
                    "output_type": "stream",
                    "text": [
                        "Epoch 1/50:\n",
                        "Train Loss: 2.1565, Train Accuracy: 0.2326\n",
                        "Val Loss: 1.9430, Val Accuracy: 0.3498\n"
                    ]
                },
                {
                    "name": "stderr",
                    "output_type": "stream",
                    "text": [
                        "100%|██████████| 228/228 [00:02<00:00, 82.90it/s]\n",
                        "100%|██████████| 57/57 [00:00<00:00, 98.53it/s]\n"
                    ]
                },
                {
                    "name": "stdout",
                    "output_type": "stream",
                    "text": [
                        "Epoch 2/50:\n",
                        "Train Loss: 1.8611, Train Accuracy: 0.3577\n",
                        "Val Loss: 1.8347, Val Accuracy: 0.3778\n"
                    ]
                },
                {
                    "name": "stderr",
                    "output_type": "stream",
                    "text": [
                        "100%|██████████| 228/228 [00:03<00:00, 75.90it/s]\n",
                        "100%|██████████| 57/57 [00:00<00:00, 99.87it/s] \n"
                    ]
                },
                {
                    "name": "stdout",
                    "output_type": "stream",
                    "text": [
                        "Epoch 3/50:\n",
                        "Train Loss: 1.7249, Train Accuracy: 0.4065\n",
                        "Val Loss: 1.7076, Val Accuracy: 0.4206\n"
                    ]
                },
                {
                    "name": "stderr",
                    "output_type": "stream",
                    "text": [
                        "100%|██████████| 228/228 [00:02<00:00, 80.07it/s]\n",
                        "100%|██████████| 57/57 [00:00<00:00, 103.52it/s]\n"
                    ]
                },
                {
                    "name": "stdout",
                    "output_type": "stream",
                    "text": [
                        "Epoch 4/50:\n",
                        "Train Loss: 1.6266, Train Accuracy: 0.4404\n",
                        "Val Loss: 1.6601, Val Accuracy: 0.4355\n"
                    ]
                },
                {
                    "name": "stderr",
                    "output_type": "stream",
                    "text": [
                        "100%|██████████| 228/228 [00:02<00:00, 80.31it/s]\n",
                        "100%|██████████| 57/57 [00:00<00:00, 105.56it/s]\n"
                    ]
                },
                {
                    "name": "stdout",
                    "output_type": "stream",
                    "text": [
                        "Epoch 5/50:\n",
                        "Train Loss: 1.5403, Train Accuracy: 0.4738\n",
                        "Val Loss: 1.5612, Val Accuracy: 0.4695\n"
                    ]
                },
                {
                    "name": "stderr",
                    "output_type": "stream",
                    "text": [
                        "100%|██████████| 228/228 [00:03<00:00, 74.76it/s]\n",
                        "100%|██████████| 57/57 [00:00<00:00, 96.95it/s] \n"
                    ]
                },
                {
                    "name": "stdout",
                    "output_type": "stream",
                    "text": [
                        "Epoch 6/50:\n",
                        "Train Loss: 1.4475, Train Accuracy: 0.5147\n",
                        "Val Loss: 1.5361, Val Accuracy: 0.4717\n"
                    ]
                },
                {
                    "name": "stderr",
                    "output_type": "stream",
                    "text": [
                        "100%|██████████| 228/228 [00:02<00:00, 81.66it/s]\n",
                        "100%|██████████| 57/57 [00:00<00:00, 105.87it/s]\n"
                    ]
                },
                {
                    "name": "stdout",
                    "output_type": "stream",
                    "text": [
                        "Epoch 7/50:\n",
                        "Train Loss: 1.3762, Train Accuracy: 0.5372\n",
                        "Val Loss: 1.4801, Val Accuracy: 0.5014\n"
                    ]
                },
                {
                    "name": "stderr",
                    "output_type": "stream",
                    "text": [
                        "100%|██████████| 228/228 [00:02<00:00, 83.25it/s]\n",
                        "100%|██████████| 57/57 [00:00<00:00, 102.50it/s]\n"
                    ]
                },
                {
                    "name": "stdout",
                    "output_type": "stream",
                    "text": [
                        "Epoch 8/50:\n",
                        "Train Loss: 1.3180, Train Accuracy: 0.5571\n",
                        "Val Loss: 1.4483, Val Accuracy: 0.5052\n"
                    ]
                },
                {
                    "name": "stderr",
                    "output_type": "stream",
                    "text": [
                        "100%|██████████| 228/228 [00:02<00:00, 85.94it/s]\n",
                        "100%|██████████| 57/57 [00:00<00:00, 104.94it/s]\n"
                    ]
                },
                {
                    "name": "stdout",
                    "output_type": "stream",
                    "text": [
                        "Epoch 9/50:\n",
                        "Train Loss: 1.2644, Train Accuracy: 0.5762\n",
                        "Val Loss: 1.4237, Val Accuracy: 0.5261\n"
                    ]
                },
                {
                    "name": "stderr",
                    "output_type": "stream",
                    "text": [
                        "100%|██████████| 228/228 [00:03<00:00, 74.59it/s]\n",
                        "100%|██████████| 57/57 [00:00<00:00, 90.00it/s]\n"
                    ]
                },
                {
                    "name": "stdout",
                    "output_type": "stream",
                    "text": [
                        "Epoch 10/50:\n",
                        "Train Loss: 1.2154, Train Accuracy: 0.5965\n",
                        "Val Loss: 1.4527, Val Accuracy: 0.5178\n"
                    ]
                },
                {
                    "name": "stderr",
                    "output_type": "stream",
                    "text": [
                        "100%|██████████| 228/228 [00:02<00:00, 76.69it/s]\n",
                        "100%|██████████| 57/57 [00:00<00:00, 95.06it/s] \n"
                    ]
                },
                {
                    "name": "stdout",
                    "output_type": "stream",
                    "text": [
                        "Epoch 11/50:\n",
                        "Train Loss: 1.1698, Train Accuracy: 0.6101\n",
                        "Val Loss: 1.3535, Val Accuracy: 0.5535\n"
                    ]
                },
                {
                    "name": "stderr",
                    "output_type": "stream",
                    "text": [
                        "100%|██████████| 228/228 [00:03<00:00, 75.08it/s]\n",
                        "100%|██████████| 57/57 [00:00<00:00, 87.01it/s]\n"
                    ]
                },
                {
                    "name": "stdout",
                    "output_type": "stream",
                    "text": [
                        "Epoch 12/50:\n",
                        "Train Loss: 1.1379, Train Accuracy: 0.6299\n",
                        "Val Loss: 1.3531, Val Accuracy: 0.5590\n"
                    ]
                },
                {
                    "name": "stderr",
                    "output_type": "stream",
                    "text": [
                        "100%|██████████| 228/228 [00:02<00:00, 82.31it/s]\n",
                        "100%|██████████| 57/57 [00:00<00:00, 103.62it/s]\n"
                    ]
                },
                {
                    "name": "stdout",
                    "output_type": "stream",
                    "text": [
                        "Epoch 13/50:\n",
                        "Train Loss: 1.0983, Train Accuracy: 0.6419\n",
                        "Val Loss: 1.3650, Val Accuracy: 0.5590\n"
                    ]
                },
                {
                    "name": "stderr",
                    "output_type": "stream",
                    "text": [
                        "100%|██████████| 228/228 [00:02<00:00, 83.17it/s]\n",
                        "100%|██████████| 57/57 [00:00<00:00, 103.60it/s]\n"
                    ]
                },
                {
                    "name": "stdout",
                    "output_type": "stream",
                    "text": [
                        "Epoch 14/50:\n",
                        "Train Loss: 1.0591, Train Accuracy: 0.6511\n",
                        "Val Loss: 1.3246, Val Accuracy: 0.5612\n"
                    ]
                },
                {
                    "name": "stderr",
                    "output_type": "stream",
                    "text": [
                        "100%|██████████| 228/228 [00:02<00:00, 85.31it/s]\n",
                        "100%|██████████| 57/57 [00:00<00:00, 100.87it/s]\n"
                    ]
                },
                {
                    "name": "stdout",
                    "output_type": "stream",
                    "text": [
                        "Epoch 15/50:\n",
                        "Train Loss: 1.0311, Train Accuracy: 0.6611\n",
                        "Val Loss: 1.3313, Val Accuracy: 0.5596\n"
                    ]
                },
                {
                    "name": "stderr",
                    "output_type": "stream",
                    "text": [
                        "100%|██████████| 228/228 [00:02<00:00, 84.34it/s]\n",
                        "100%|██████████| 57/57 [00:00<00:00, 108.47it/s]\n"
                    ]
                },
                {
                    "name": "stdout",
                    "output_type": "stream",
                    "text": [
                        "Epoch 16/50:\n",
                        "Train Loss: 0.9854, Train Accuracy: 0.6785\n",
                        "Val Loss: 1.3420, Val Accuracy: 0.5535\n"
                    ]
                },
                {
                    "name": "stderr",
                    "output_type": "stream",
                    "text": [
                        "100%|██████████| 228/228 [00:02<00:00, 83.26it/s]\n",
                        "100%|██████████| 57/57 [00:00<00:00, 101.42it/s]\n"
                    ]
                },
                {
                    "name": "stdout",
                    "output_type": "stream",
                    "text": [
                        "Epoch 17/50:\n",
                        "Train Loss: 0.9532, Train Accuracy: 0.6858\n",
                        "Val Loss: 1.3353, Val Accuracy: 0.5574\n"
                    ]
                },
                {
                    "name": "stderr",
                    "output_type": "stream",
                    "text": [
                        "100%|██████████| 228/228 [00:02<00:00, 83.85it/s]\n",
                        "100%|██████████| 57/57 [00:00<00:00, 95.06it/s] \n"
                    ]
                },
                {
                    "name": "stdout",
                    "output_type": "stream",
                    "text": [
                        "Epoch 18/50:\n",
                        "Train Loss: 0.9044, Train Accuracy: 0.6994\n",
                        "Val Loss: 1.3486, Val Accuracy: 0.5684\n"
                    ]
                },
                {
                    "name": "stderr",
                    "output_type": "stream",
                    "text": [
                        "100%|██████████| 228/228 [00:02<00:00, 78.00it/s]\n",
                        "100%|██████████| 57/57 [00:00<00:00, 99.54it/s] \n"
                    ]
                },
                {
                    "name": "stdout",
                    "output_type": "stream",
                    "text": [
                        "Epoch 19/50:\n",
                        "Train Loss: 0.8728, Train Accuracy: 0.7210\n",
                        "Val Loss: 1.2688, Val Accuracy: 0.5870\n"
                    ]
                },
                {
                    "name": "stderr",
                    "output_type": "stream",
                    "text": [
                        "100%|██████████| 228/228 [00:02<00:00, 83.29it/s]\n",
                        "100%|██████████| 57/57 [00:00<00:00, 100.91it/s]\n"
                    ]
                },
                {
                    "name": "stdout",
                    "output_type": "stream",
                    "text": [
                        "Epoch 20/50:\n",
                        "Train Loss: 0.8315, Train Accuracy: 0.7270\n",
                        "Val Loss: 1.3380, Val Accuracy: 0.5678\n"
                    ]
                },
                {
                    "name": "stderr",
                    "output_type": "stream",
                    "text": [
                        "100%|██████████| 228/228 [00:02<00:00, 82.28it/s]\n",
                        "100%|██████████| 57/57 [00:00<00:00, 103.62it/s]\n"
                    ]
                },
                {
                    "name": "stdout",
                    "output_type": "stream",
                    "text": [
                        "Epoch 21/50:\n",
                        "Train Loss: 0.7926, Train Accuracy: 0.7400\n",
                        "Val Loss: 1.3076, Val Accuracy: 0.5805\n"
                    ]
                },
                {
                    "name": "stderr",
                    "output_type": "stream",
                    "text": [
                        "100%|██████████| 228/228 [00:02<00:00, 83.02it/s]\n",
                        "100%|██████████| 57/57 [00:00<00:00, 105.21it/s]\n"
                    ]
                },
                {
                    "name": "stdout",
                    "output_type": "stream",
                    "text": [
                        "Epoch 22/50:\n",
                        "Train Loss: 0.7422, Train Accuracy: 0.7593\n",
                        "Val Loss: 1.2923, Val Accuracy: 0.5881\n"
                    ]
                },
                {
                    "name": "stderr",
                    "output_type": "stream",
                    "text": [
                        "100%|██████████| 228/228 [00:02<00:00, 83.80it/s]\n",
                        "100%|██████████| 57/57 [00:00<00:00, 103.70it/s]\n"
                    ]
                },
                {
                    "name": "stdout",
                    "output_type": "stream",
                    "text": [
                        "Epoch 23/50:\n",
                        "Train Loss: 0.7075, Train Accuracy: 0.7763\n",
                        "Val Loss: 1.2996, Val Accuracy: 0.5931\n"
                    ]
                },
                {
                    "name": "stderr",
                    "output_type": "stream",
                    "text": [
                        "100%|██████████| 228/228 [00:03<00:00, 69.08it/s]\n",
                        "100%|██████████| 57/57 [00:00<00:00, 100.64it/s]\n"
                    ]
                },
                {
                    "name": "stdout",
                    "output_type": "stream",
                    "text": [
                        "Epoch 24/50:\n",
                        "Train Loss: 0.6632, Train Accuracy: 0.7852\n",
                        "Val Loss: 1.3119, Val Accuracy: 0.6019\n"
                    ]
                },
                {
                    "name": "stderr",
                    "output_type": "stream",
                    "text": [
                        "100%|██████████| 228/228 [00:02<00:00, 77.05it/s]\n",
                        "100%|██████████| 57/57 [00:00<00:00, 104.54it/s]\n"
                    ]
                },
                {
                    "name": "stdout",
                    "output_type": "stream",
                    "text": [
                        "Epoch 25/50:\n",
                        "Train Loss: 0.6139, Train Accuracy: 0.8073\n",
                        "Val Loss: 1.3141, Val Accuracy: 0.5958\n"
                    ]
                },
                {
                    "name": "stderr",
                    "output_type": "stream",
                    "text": [
                        "100%|██████████| 228/228 [00:03<00:00, 75.75it/s]\n",
                        "100%|██████████| 57/57 [00:00<00:00, 84.10it/s]\n"
                    ]
                },
                {
                    "name": "stdout",
                    "output_type": "stream",
                    "text": [
                        "Epoch 26/50:\n",
                        "Train Loss: 0.5792, Train Accuracy: 0.8154\n",
                        "Val Loss: 1.3766, Val Accuracy: 0.5865\n"
                    ]
                },
                {
                    "name": "stderr",
                    "output_type": "stream",
                    "text": [
                        "100%|██████████| 228/228 [00:02<00:00, 77.13it/s]\n",
                        "100%|██████████| 57/57 [00:00<00:00, 104.64it/s]\n"
                    ]
                },
                {
                    "name": "stdout",
                    "output_type": "stream",
                    "text": [
                        "Epoch 27/50:\n",
                        "Train Loss: 0.5300, Train Accuracy: 0.8351\n",
                        "Val Loss: 1.4338, Val Accuracy: 0.5788\n"
                    ]
                },
                {
                    "name": "stderr",
                    "output_type": "stream",
                    "text": [
                        "100%|██████████| 228/228 [00:02<00:00, 86.13it/s]\n",
                        "100%|██████████| 57/57 [00:00<00:00, 93.55it/s]\n"
                    ]
                },
                {
                    "name": "stdout",
                    "output_type": "stream",
                    "text": [
                        "Epoch 28/50:\n",
                        "Train Loss: 0.4926, Train Accuracy: 0.8488\n",
                        "Val Loss: 1.4124, Val Accuracy: 0.5903\n"
                    ]
                },
                {
                    "name": "stderr",
                    "output_type": "stream",
                    "text": [
                        "100%|██████████| 228/228 [00:02<00:00, 80.96it/s]\n",
                        "100%|██████████| 57/57 [00:00<00:00, 100.02it/s]\n"
                    ]
                },
                {
                    "name": "stdout",
                    "output_type": "stream",
                    "text": [
                        "Epoch 29/50:\n",
                        "Train Loss: 0.4497, Train Accuracy: 0.8661\n",
                        "Val Loss: 1.4526, Val Accuracy: 0.5766\n"
                    ]
                },
                {
                    "name": "stderr",
                    "output_type": "stream",
                    "text": [
                        "100%|██████████| 228/228 [00:03<00:00, 66.90it/s]\n",
                        "100%|██████████| 57/57 [00:00<00:00, 73.36it/s]\n"
                    ]
                },
                {
                    "name": "stdout",
                    "output_type": "stream",
                    "text": [
                        "Epoch 30/50:\n",
                        "Train Loss: 0.4125, Train Accuracy: 0.8757\n",
                        "Val Loss: 1.4529, Val Accuracy: 0.5859\n"
                    ]
                },
                {
                    "name": "stderr",
                    "output_type": "stream",
                    "text": [
                        "100%|██████████| 228/228 [00:02<00:00, 80.61it/s]\n",
                        "100%|██████████| 57/57 [00:00<00:00, 106.31it/s]\n"
                    ]
                },
                {
                    "name": "stdout",
                    "output_type": "stream",
                    "text": [
                        "Epoch 31/50:\n",
                        "Train Loss: 0.3775, Train Accuracy: 0.8886\n",
                        "Val Loss: 1.5200, Val Accuracy: 0.5755\n"
                    ]
                },
                {
                    "name": "stderr",
                    "output_type": "stream",
                    "text": [
                        "100%|██████████| 228/228 [00:02<00:00, 79.90it/s]\n",
                        "100%|██████████| 57/57 [00:00<00:00, 103.74it/s]\n"
                    ]
                },
                {
                    "name": "stdout",
                    "output_type": "stream",
                    "text": [
                        "Epoch 32/50:\n",
                        "Train Loss: 0.3326, Train Accuracy: 0.9028\n",
                        "Val Loss: 1.5009, Val Accuracy: 0.5865\n"
                    ]
                },
                {
                    "name": "stderr",
                    "output_type": "stream",
                    "text": [
                        "100%|██████████| 228/228 [00:02<00:00, 82.75it/s]\n",
                        "100%|██████████| 57/57 [00:00<00:00, 101.14it/s]\n"
                    ]
                },
                {
                    "name": "stdout",
                    "output_type": "stream",
                    "text": [
                        "Epoch 33/50:\n",
                        "Train Loss: 0.2948, Train Accuracy: 0.9179\n",
                        "Val Loss: 1.5900, Val Accuracy: 0.5843\n"
                    ]
                },
                {
                    "name": "stderr",
                    "output_type": "stream",
                    "text": [
                        "100%|██████████| 228/228 [00:02<00:00, 80.43it/s]\n",
                        "100%|██████████| 57/57 [00:00<00:00, 109.93it/s]\n"
                    ]
                },
                {
                    "name": "stdout",
                    "output_type": "stream",
                    "text": [
                        "Epoch 34/50:\n",
                        "Train Loss: 0.2685, Train Accuracy: 0.9282\n",
                        "Val Loss: 1.5862, Val Accuracy: 0.5832\n"
                    ]
                },
                {
                    "name": "stderr",
                    "output_type": "stream",
                    "text": [
                        "100%|██████████| 228/228 [00:02<00:00, 86.55it/s]\n",
                        "100%|██████████| 57/57 [00:00<00:00, 108.39it/s]\n"
                    ]
                },
                {
                    "name": "stdout",
                    "output_type": "stream",
                    "text": [
                        "Epoch 35/50:\n",
                        "Train Loss: 0.2281, Train Accuracy: 0.9423\n",
                        "Val Loss: 1.6450, Val Accuracy: 0.5799\n"
                    ]
                },
                {
                    "name": "stderr",
                    "output_type": "stream",
                    "text": [
                        "100%|██████████| 228/228 [00:02<00:00, 87.06it/s]\n",
                        "100%|██████████| 57/57 [00:00<00:00, 106.75it/s]\n"
                    ]
                },
                {
                    "name": "stdout",
                    "output_type": "stream",
                    "text": [
                        "Epoch 36/50:\n",
                        "Train Loss: 0.2015, Train Accuracy: 0.9514\n",
                        "Val Loss: 1.6509, Val Accuracy: 0.5903\n"
                    ]
                },
                {
                    "name": "stderr",
                    "output_type": "stream",
                    "text": [
                        "100%|██████████| 228/228 [00:02<00:00, 79.79it/s]\n",
                        "100%|██████████| 57/57 [00:00<00:00, 92.73it/s]\n"
                    ]
                },
                {
                    "name": "stdout",
                    "output_type": "stream",
                    "text": [
                        "Epoch 37/50:\n",
                        "Train Loss: 0.1687, Train Accuracy: 0.9632\n",
                        "Val Loss: 1.7408, Val Accuracy: 0.5898\n"
                    ]
                },
                {
                    "name": "stderr",
                    "output_type": "stream",
                    "text": [
                        "100%|██████████| 228/228 [00:03<00:00, 74.14it/s]\n",
                        "100%|██████████| 57/57 [00:00<00:00, 104.94it/s]\n"
                    ]
                },
                {
                    "name": "stdout",
                    "output_type": "stream",
                    "text": [
                        "Epoch 38/50:\n",
                        "Train Loss: 0.1487, Train Accuracy: 0.9670\n",
                        "Val Loss: 1.8383, Val Accuracy: 0.5794\n"
                    ]
                },
                {
                    "name": "stderr",
                    "output_type": "stream",
                    "text": [
                        "100%|██████████| 228/228 [00:02<00:00, 82.78it/s]\n",
                        "100%|██████████| 57/57 [00:00<00:00, 111.13it/s]\n"
                    ]
                },
                {
                    "name": "stdout",
                    "output_type": "stream",
                    "text": [
                        "Epoch 39/50:\n",
                        "Train Loss: 0.1295, Train Accuracy: 0.9725\n",
                        "Val Loss: 1.8960, Val Accuracy: 0.5821\n"
                    ]
                },
                {
                    "name": "stderr",
                    "output_type": "stream",
                    "text": [
                        "100%|██████████| 228/228 [00:02<00:00, 88.34it/s]\n",
                        "100%|██████████| 57/57 [00:00<00:00, 105.36it/s]\n"
                    ]
                },
                {
                    "name": "stdout",
                    "output_type": "stream",
                    "text": [
                        "Epoch 40/50:\n",
                        "Train Loss: 0.1235, Train Accuracy: 0.9718\n",
                        "Val Loss: 1.9333, Val Accuracy: 0.5826\n"
                    ]
                },
                {
                    "name": "stderr",
                    "output_type": "stream",
                    "text": [
                        "100%|██████████| 228/228 [00:02<00:00, 83.05it/s]\n",
                        "100%|██████████| 57/57 [00:00<00:00, 105.50it/s]\n"
                    ]
                },
                {
                    "name": "stdout",
                    "output_type": "stream",
                    "text": [
                        "Epoch 41/50:\n",
                        "Train Loss: 0.0946, Train Accuracy: 0.9821\n",
                        "Val Loss: 2.0222, Val Accuracy: 0.5744\n"
                    ]
                },
                {
                    "name": "stderr",
                    "output_type": "stream",
                    "text": [
                        "100%|██████████| 228/228 [00:02<00:00, 82.21it/s]\n",
                        "100%|██████████| 57/57 [00:00<00:00, 93.17it/s]\n"
                    ]
                },
                {
                    "name": "stdout",
                    "output_type": "stream",
                    "text": [
                        "Epoch 42/50:\n",
                        "Train Loss: 0.0798, Train Accuracy: 0.9857\n",
                        "Val Loss: 2.0635, Val Accuracy: 0.5810\n"
                    ]
                },
                {
                    "name": "stderr",
                    "output_type": "stream",
                    "text": [
                        "100%|██████████| 228/228 [00:02<00:00, 76.89it/s]\n",
                        "100%|██████████| 57/57 [00:00<00:00, 103.54it/s]\n"
                    ]
                },
                {
                    "name": "stdout",
                    "output_type": "stream",
                    "text": [
                        "Epoch 43/50:\n",
                        "Train Loss: 0.0582, Train Accuracy: 0.9929\n",
                        "Val Loss: 2.1529, Val Accuracy: 0.5794\n"
                    ]
                },
                {
                    "name": "stderr",
                    "output_type": "stream",
                    "text": [
                        "100%|██████████| 228/228 [00:02<00:00, 83.74it/s]\n",
                        "100%|██████████| 57/57 [00:00<00:00, 97.89it/s] \n"
                    ]
                },
                {
                    "name": "stdout",
                    "output_type": "stream",
                    "text": [
                        "Epoch 44/50:\n",
                        "Train Loss: 0.0514, Train Accuracy: 0.9931\n",
                        "Val Loss: 2.1694, Val Accuracy: 0.5772\n"
                    ]
                },
                {
                    "name": "stderr",
                    "output_type": "stream",
                    "text": [
                        "100%|██████████| 228/228 [00:02<00:00, 83.35it/s]\n",
                        "100%|██████████| 57/57 [00:00<00:00, 103.13it/s]\n"
                    ]
                },
                {
                    "name": "stdout",
                    "output_type": "stream",
                    "text": [
                        "Epoch 45/50:\n",
                        "Train Loss: 0.0442, Train Accuracy: 0.9948\n",
                        "Val Loss: 2.2470, Val Accuracy: 0.5848\n"
                    ]
                },
                {
                    "name": "stderr",
                    "output_type": "stream",
                    "text": [
                        "100%|██████████| 228/228 [00:02<00:00, 82.28it/s]\n",
                        "100%|██████████| 57/57 [00:00<00:00, 101.05it/s]\n"
                    ]
                },
                {
                    "name": "stdout",
                    "output_type": "stream",
                    "text": [
                        "Epoch 46/50:\n",
                        "Train Loss: 0.0367, Train Accuracy: 0.9960\n",
                        "Val Loss: 2.4322, Val Accuracy: 0.5684\n"
                    ]
                },
                {
                    "name": "stderr",
                    "output_type": "stream",
                    "text": [
                        "100%|██████████| 228/228 [00:02<00:00, 81.97it/s]\n",
                        "100%|██████████| 57/57 [00:00<00:00, 96.74it/s]\n"
                    ]
                },
                {
                    "name": "stdout",
                    "output_type": "stream",
                    "text": [
                        "Epoch 47/50:\n",
                        "Train Loss: 0.0359, Train Accuracy: 0.9953\n",
                        "Val Loss: 2.3961, Val Accuracy: 0.5777\n"
                    ]
                },
                {
                    "name": "stderr",
                    "output_type": "stream",
                    "text": [
                        "100%|██████████| 228/228 [00:02<00:00, 77.65it/s]\n",
                        "100%|██████████| 57/57 [00:00<00:00, 96.56it/s]\n"
                    ]
                },
                {
                    "name": "stdout",
                    "output_type": "stream",
                    "text": [
                        "Epoch 48/50:\n",
                        "Train Loss: 0.0348, Train Accuracy: 0.9960\n",
                        "Val Loss: 2.4237, Val Accuracy: 0.5755\n"
                    ]
                },
                {
                    "name": "stderr",
                    "output_type": "stream",
                    "text": [
                        "100%|██████████| 228/228 [00:02<00:00, 78.08it/s]\n",
                        "100%|██████████| 57/57 [00:00<00:00, 98.07it/s] \n"
                    ]
                },
                {
                    "name": "stdout",
                    "output_type": "stream",
                    "text": [
                        "Epoch 49/50:\n",
                        "Train Loss: 0.0218, Train Accuracy: 0.9982\n",
                        "Val Loss: 2.6384, Val Accuracy: 0.5695\n"
                    ]
                },
                {
                    "name": "stderr",
                    "output_type": "stream",
                    "text": [
                        "100%|██████████| 228/228 [00:02<00:00, 80.12it/s]\n",
                        "100%|██████████| 57/57 [00:00<00:00, 96.86it/s] \n"
                    ]
                },
                {
                    "name": "stdout",
                    "output_type": "stream",
                    "text": [
                        "Epoch 50/50:\n",
                        "Train Loss: 0.0609, Train Accuracy: 0.9846\n",
                        "Val Loss: 2.7895, Val Accuracy: 0.5453\n"
                    ]
                },
                {
                    "name": "stderr",
                    "output_type": "stream",
                    "text": [
                        "100%|██████████| 123/123 [00:01<00:00, 100.72it/s]\n"
                    ]
                },
                {
                    "name": "stdout",
                    "output_type": "stream",
                    "text": [
                        "Test Loss: 1.2805, Test Accuracy: 0.5880\n"
                    ]
                },
                {
                    "name": "stderr",
                    "output_type": "stream",
                    "text": [
                        "100%|██████████| 123/123 [00:01<00:00, 93.94it/s]"
                    ]
                },
                {
                    "name": "stdout",
                    "output_type": "stream",
                    "text": [
                        "Test Loss: 2.9269, Test Accuracy: 0.5460\n"
                    ]
                },
                {
                    "name": "stderr",
                    "output_type": "stream",
                    "text": [
                        "\n"
                    ]
                },
                {
                    "data": {
                        "text/plain": [
                            "(360.004970908165, 2143, 3925)"
                        ]
                    },
                    "execution_count": 16,
                    "metadata": {},
                    "output_type": "execute_result"
                }
            ],
            "source": [
                "def train(\n",
                "        train_data,\n",
                "        val_data,\n",
                "        model,\n",
                "        criterion,\n",
                "        optimizer,\n",
                "        num_epochs,\n",
                "        device,\n",
                "):\n",
                "    info = defaultdict(list)\n",
                "    best_val_loss = float(\"inf\")\n",
                "\n",
                "    for epoch in range(num_epochs):\n",
                "        model.train()\n",
                "        train_loss = 0\n",
                "        train_correct = 0\n",
                "        train_total = 0\n",
                "\n",
                "        for inputs, labels in tqdm(train_data):\n",
                "            inputs, labels = inputs.to(device), labels.to(device)\n",
                "            optimizer.zero_grad()\n",
                "            outputs = model(inputs)\n",
                "            loss = criterion(outputs, labels)\n",
                "            loss.backward()\n",
                "            optimizer.step()\n",
                "\n",
                "            train_loss += loss.item()\n",
                "            _, predicted = outputs.max(1)\n",
                "            train_total += labels.size(0)\n",
                "            train_correct += predicted.eq(labels).sum().item()\n",
                "\n",
                "        info[\"train_losses\"].append(train_loss / len(train_data))\n",
                "        info[\"train_accuracies\"].append(train_correct / train_total)\n",
                "\n",
                "        model.eval()\n",
                "        val_loss = 0\n",
                "        val_correct = 0\n",
                "        val_total = 0\n",
                "\n",
                "        with torch.no_grad():\n",
                "            for inputs, labels in tqdm(val_data):\n",
                "                inputs, labels = inputs.to(device), labels.to(device)\n",
                "                outputs = model(inputs)\n",
                "                loss = criterion(outputs, labels)\n",
                "\n",
                "                val_loss += loss.item()\n",
                "                _, predicted = outputs.max(1)\n",
                "                val_total += labels.size(0)\n",
                "                val_correct += predicted.eq(labels).sum().item()\n",
                "\n",
                "        info[\"val_losses\"].append(val_loss / len(val_data))\n",
                "        info[\"val_accuracies\"].append(val_correct / val_total)\n",
                "\n",
                "        if val_loss < best_val_loss:\n",
                "            best_val_loss = val_loss\n",
                "            torch.save(model.state_dict(), os.path.join(dir, \"best_model.pth\"))\n",
                "\n",
                "        torch.save(model.state_dict(), os.path.join(dir, \"last_model.pth\"))\n",
                "\n",
                "        print(f\"Epoch {epoch + 1}/{num_epochs}:\")\n",
                "        print(f\"Train Loss: {info['train_losses'][-1]:.4f}, Train Accuracy: {info['train_accuracies'][-1]:.4f}\")\n",
                "        print(f\"Val Loss: {info['val_losses'][-1]:.4f}, Val Accuracy: {info['val_accuracies'][-1]:.4f}\")\n",
                "\n",
                "    return info\n",
                "\n",
                "model = CNN(3, 10, device)\n",
                "optimizer = optim.Adam(model.parameters(), lr=1e-4)\n",
                "info = train(train_loader, val_loader, model, criterion, optimizer, 50, device)\n",
                "\n",
                "best_model = CNN(3, 10, device)\n",
                "best_model.load_state_dict(torch.load(os.path.join(dir, \"best_model.pth\")))\n",
                "best_model.to(device)\n",
                "test(test_loader, best_model)\n",
                "\n",
                "last_model = CNN(3, 10, device)\n",
                "last_model.load_state_dict(torch.load(os.path.join(dir, \"last_model.pth\")))\n",
                "last_model.to(device)\n",
                "test(test_loader, last_model)\n"
            ]
        },
        {
            "cell_type": "code",
            "execution_count": 17,
            "metadata": {},
            "outputs": [
                {
                    "name": "stderr",
                    "output_type": "stream",
                    "text": [
                        "100%|██████████| 123/123 [00:01<00:00, 81.24it/s] \n"
                    ]
                },
                {
                    "name": "stdout",
                    "output_type": "stream",
                    "text": [
                        "Test Loss: 1.2771, Test Accuracy: 0.5880\n"
                    ]
                },
                {
                    "name": "stderr",
                    "output_type": "stream",
                    "text": [
                        "100%|██████████| 123/123 [00:01<00:00, 101.51it/s]"
                    ]
                },
                {
                    "name": "stdout",
                    "output_type": "stream",
                    "text": [
                        "Test Loss: 2.9318, Test Accuracy: 0.5460\n"
                    ]
                },
                {
                    "name": "stderr",
                    "output_type": "stream",
                    "text": [
                        "\n"
                    ]
                },
                {
                    "data": {
                        "text/plain": [
                            "(360.6171367764473, 2143, 3925)"
                        ]
                    },
                    "execution_count": 17,
                    "metadata": {},
                    "output_type": "execute_result"
                }
            ],
            "source": [
                "test(test_loader, best_model)\n",
                "test(test_loader, last_model)\n"
            ]
        },
        {
            "cell_type": "code",
            "execution_count": null,
            "metadata": {},
            "outputs": [],
            "source": []
        }
    ],
    "metadata": {
        "kernelspec": {
            "display_name": "Python 3 (ipykernel)",
            "language": "python",
            "name": "python3"
        },
        "language_info": {
            "codemirror_mode": {
                "name": "ipython",
                "version": 3
            },
            "file_extension": ".py",
            "mimetype": "text/x-python",
            "name": "python",
            "nbconvert_exporter": "python",
            "pygments_lexer": "ipython3",
            "version": "3.10.11"
        }
    },
    "nbformat": 4,
    "nbformat_minor": 0
}
